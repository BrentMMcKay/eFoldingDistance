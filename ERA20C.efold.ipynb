{
 "cells": [
  {
   "cell_type": "markdown",
   "metadata": {},
   "source": [
    "This notebook demonstrates how to calculate and plot eFold distance of inter-site temperature correlation using the eFold module. The source data for this example is ECMWF's ERA20C Monthly temperature dataset (https://ecmwf.int/en/forecasts/datasets/reanalysis-datasets/era-20c).\n",
    "\n",
    "The source code in the notebook converts the NETCDF dataset into a set of times and temperatures, then uses the eFold module to filter the dataset, calculate the correlations between sites, then calculate and plot the eFold distances between the correlations.\n",
    "\n",
    "Working with larger datasets on memory- or CPU-limited computers can be slow. There are several checkpoints in the notebook where processed data can be saved or restored via a pickle file, to reduce times of future runs."
   ]
  },
  {
   "cell_type": "code",
   "execution_count": null,
   "metadata": {},
   "outputs": [],
   "source": [
    "#import system packages\n",
    "import matplotlib.pyplot as plt\n",
    "import netCDF4\n",
    "from netCDF4 import Dataset\n",
    "import pandas as pd\n",
    "import numpy as np\n",
    "from scipy.signal import butter, filtfilt\n",
    "import cartopy.crs as ccrs\n",
    "import cartopy.feature as cf\n",
    "import cartopy\n",
    "import sys\n",
    "import io\n",
    "import warnings\n",
    "import pickle"
   ]
  },
  {
   "cell_type": "code",
   "execution_count": null,
   "metadata": {},
   "outputs": [],
   "source": [
    "#import local modules\n",
    "from eFold import binTime\n",
    "from eFold import bandPassFilter\n",
    "from eFold import binAndFilter\n",
    "from eFold import eFoldingDistance\n",
    "from eFold import calcEFold\n",
    "from eFold import plotMap\n"
   ]
  },
  {
   "cell_type": "code",
   "execution_count": null,
   "metadata": {},
   "outputs": [],
   "source": [
    "#Load the NETCDF dataset and load variables latiture, longitude, time, and t2m\n",
    "rootGrp = netCDF4.Dataset('era20c_t2m_1981_2010_anom.nc', 'r')\n",
    "\n",
    "latitude=rootGrp.variables['latitude']\n",
    "longitude=rootGrp.variables['longitude']\n",
    "time=rootGrp.variables['time']\n",
    "t2m=rootGrp.variables['t2m']"
   ]
  },
  {
   "cell_type": "code",
   "execution_count": null,
   "metadata": {},
   "outputs": [],
   "source": [
    "# Manipulate time varaiable into a numpy array. time variable units is months since Jan 190\n",
    "firstYear  = 1900\n",
    "numYears = int(len(time)/12)\n",
    "years = range(firstYear,firstYear+numYears)\n",
    "months = np.tile(np.arange(1/24,1.0,1/12),(numYears,1))\n",
    "years = np.tile(years,(12,1)).transpose()\n",
    "times = (months+years).flatten()"
   ]
  },
  {
   "cell_type": "code",
   "execution_count": null,
   "metadata": {},
   "outputs": [],
   "source": [
    "# Prepare to create site list\n",
    "siteList = []\n",
    "# WARNING: The source datafile contains readings for locations covering a grid over the \n",
    "# globe, with 128 latitudes x 256 longitudes, resulting in 32768 locations.\n",
    "# To calculate correlations between all these sites, a 64 GB correlation matrix is \n",
    "# needed. If running on a memory- or CPU-limited machine, it will be necessary to reduce the \n",
    "# number of sites. This can be done here by setting the increment value.\n",
    "# (e.g., set both to 2 to reduce sites by 3/4, 3 to reduce by 8/9, etc)\n",
    "latIncrement=1  # Take every latitude \n",
    "lonIncrement=1  # Take every longitude"
   ]
  },
  {
   "cell_type": "code",
   "execution_count": null,
   "metadata": {},
   "outputs": [],
   "source": [
    "for i in range(0,len(latitude),latIncrement):\n",
    "    lat = latitude[i]\n",
    "    for j in range(0,len(longitude),lonIncrement):\n",
    "        lon = longitude[j]\n",
    "        siteDict = {}\n",
    "        siteDict['latitude'] = lat\n",
    "        siteDict['longitude'] = lon\n",
    "        siteDict['sitename'] = str(lat)+','+str(lon)\n",
    "        siteDict['times'] = times\n",
    "\n",
    "        # Get all the temperature readings for this location\n",
    "        temps = np.array(t2m[:,i,j].filled(np.NaN))\n",
    "\n",
    "        # Replace all missing readings with np.NaN\n",
    "        temps[temps<=-32767.0] = np.NaN\n",
    "\n",
    "        # Center all the data by subtracting the mean from each value\n",
    "        meanTemps = temps - temps.mean()\n",
    "\n",
    "        siteDict['temps'] = meanTemps\n",
    "        siteList.append(siteDict)\n",
    "\n",
    "\n",
    "print('Num sites',len(siteList))"
   ]
  },
  {
   "cell_type": "code",
   "execution_count": null,
   "metadata": {},
   "outputs": [],
   "source": [
    "# Uncomment the following to save the siteList for later\n",
    "\n",
    "#outPickleFid='ipynb.sitelist.era20.pickle.dat'\n",
    "#pickle.dump(siteList, open(outPickleFid,'wb'))\n",
    "\n",
    "# If running with previously loaded data, uncomment and run:\n",
    "\n",
    "#pickleFidIn = 'ipynb.sitelist.era20.dat'\n",
    "#siteList = pickle.load(open(pickleFidIn,'rb'))"
   ]
  },
  {
   "cell_type": "code",
   "execution_count": null,
   "metadata": {},
   "outputs": [],
   "source": [
    "# bin all the temperatures into years, and filter out the low frequency repetitions\n",
    "pickleFidOut = 'ipynb.filtered.era20.pickle.dat'\n",
    "filteredArray = binAndFilter( siteList, timeStart=1900,timeEnd=2011,timeStep=1,highBandPass=True,replaceNaN=True,replaceNaNDivisor=12,outFid=pickleFidOut )"
   ]
  },
  {
   "cell_type": "code",
   "execution_count": null,
   "metadata": {},
   "outputs": [],
   "source": [
    "# Calculate correlations between each pair of sites and the eFold distance for each site\n",
    "eFold = calcEFold( siteList, filteredArray )"
   ]
  },
  {
   "cell_type": "code",
   "execution_count": null,
   "metadata": {
    "scrolled": true
   },
   "outputs": [],
   "source": [
    "\n",
    "# Plot the data on a map\n",
    "# Put the data into usable lists                     \n",
    "lons = []                                            \n",
    "lats = []                                            \n",
    "r2 = []                                              \n",
    "eFoldDistance = []                                   \n",
    "for i in range(0,len(eFold)):                        \n",
    "    lons.append(eFold[i]['lon'])                     \n",
    "    lats.append(eFold[i]['lat'])\n",
    "    r2.append(eFold[i]['r2'])\n",
    "    eFoldDistance.append(eFold[i]['eFoldDistance'])\n",
    "\n",
    "plt.rcParams['figure.figsize']=[10,5]\n",
    "plotMap( lats, lons, eFoldDistance,plotTitle='ERA20',dataLabel='e-Folding Distance (km)' )\n",
    "plotMap( lats, lons,r2,plotTitle='ERA20',dataLabel='$r^2$ for eFoldDistance',dotSize=10)  \n"
   ]
  },
  {
   "cell_type": "code",
   "execution_count": null,
   "metadata": {},
   "outputs": [],
   "source": []
  }
 ],
 "metadata": {
  "kernelspec": {
   "display_name": "Python 3",
   "language": "python",
   "name": "python3"
  },
  "language_info": {
   "codemirror_mode": {
    "name": "ipython",
    "version": 3
   },
   "file_extension": ".py",
   "mimetype": "text/x-python",
   "name": "python",
   "nbconvert_exporter": "python",
   "pygments_lexer": "ipython3",
   "version": "3.6.9"
  }
 },
 "nbformat": 4,
 "nbformat_minor": 4
}
